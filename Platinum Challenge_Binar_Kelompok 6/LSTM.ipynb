{
 "cells": [
  {
   "cell_type": "code",
   "execution_count": 1,
   "id": "dc264998",
   "metadata": {},
   "outputs": [
    {
     "data": {
      "text/html": [
       "<div>\n",
       "<style scoped>\n",
       "    .dataframe tbody tr th:only-of-type {\n",
       "        vertical-align: middle;\n",
       "    }\n",
       "\n",
       "    .dataframe tbody tr th {\n",
       "        vertical-align: top;\n",
       "    }\n",
       "\n",
       "    .dataframe thead th {\n",
       "        text-align: right;\n",
       "    }\n",
       "</style>\n",
       "<table border=\"1\" class=\"dataframe\">\n",
       "  <thead>\n",
       "    <tr style=\"text-align: right;\">\n",
       "      <th></th>\n",
       "      <th>kalimat</th>\n",
       "      <th>sentiment</th>\n",
       "      <th>clean text</th>\n",
       "      <th>clean abusive</th>\n",
       "      <th>clean alay</th>\n",
       "      <th>clean abusive alay</th>\n",
       "    </tr>\n",
       "  </thead>\n",
       "  <tbody>\n",
       "    <tr>\n",
       "      <th>0</th>\n",
       "      <td>warung ini dimiliki oleh pengusaha pabrik tahu...</td>\n",
       "      <td>positive</td>\n",
       "      <td>warung ini dimiliki oleh pengusaha pabrik tahu...</td>\n",
       "      <td>warung ini dimiliki oleh pengusaha pabrik tahu...</td>\n",
       "      <td>warung ini dimiliki oleh pengusaha pabrik tahu...</td>\n",
       "      <td>warung ini dimiliki oleh pengusaha pabrik tahu...</td>\n",
       "    </tr>\n",
       "    <tr>\n",
       "      <th>1</th>\n",
       "      <td>mohon ulama lurus dan k212 mmbri hujjah partai...</td>\n",
       "      <td>neutral</td>\n",
       "      <td>mohon ulama lurus dan k212 mmbri hujjah partai...</td>\n",
       "      <td>mohon ulama lurus dan k212 mmbri hujjah partai...</td>\n",
       "      <td>mohon ulama lurus dan k212 mmbri hujjah partai...</td>\n",
       "      <td>mohon ulama lurus dan k212 mmbri hujjah partai...</td>\n",
       "    </tr>\n",
       "    <tr>\n",
       "      <th>2</th>\n",
       "      <td>lokasi strategis di jalan sumatera bandung . t...</td>\n",
       "      <td>positive</td>\n",
       "      <td>lokasi strategis di jalan sumatera bandung tem...</td>\n",
       "      <td>lokasi strategis di jalan sumatera bandung tem...</td>\n",
       "      <td>lokasi strategis di jalan sumatra bandung temp...</td>\n",
       "      <td>lokasi strategis di jalan sumatra bandung temp...</td>\n",
       "    </tr>\n",
       "    <tr>\n",
       "      <th>3</th>\n",
       "      <td>betapa bahagia nya diri ini saat unboxing pake...</td>\n",
       "      <td>positive</td>\n",
       "      <td>betapa bahagia nya diri ini saat unboxing pake...</td>\n",
       "      <td>betapa bahagia nya diri ini saat unboxing pake...</td>\n",
       "      <td>betapa bahagia nya diri ini saat unboxing pake...</td>\n",
       "      <td>betapa bahagia nya diri ini saat unboxing pake...</td>\n",
       "    </tr>\n",
       "    <tr>\n",
       "      <th>4</th>\n",
       "      <td>duh . jadi mahasiswa jangan sombong dong . kas...</td>\n",
       "      <td>negative</td>\n",
       "      <td>duh jadi mahasiswa jangan sombong dong kasih k...</td>\n",
       "      <td>duh jadi mahasiswa jangan sombong dong kasih k...</td>\n",
       "      <td>aduh jadi mahasiswa jangan sombong dong kasih ...</td>\n",
       "      <td>aduh jadi mahasiswa jangan sombong dong kasih ...</td>\n",
       "    </tr>\n",
       "    <tr>\n",
       "      <th>...</th>\n",
       "      <td>...</td>\n",
       "      <td>...</td>\n",
       "      <td>...</td>\n",
       "      <td>...</td>\n",
       "      <td>...</td>\n",
       "      <td>...</td>\n",
       "    </tr>\n",
       "    <tr>\n",
       "      <th>10995</th>\n",
       "      <td>tidak kecewa</td>\n",
       "      <td>positive</td>\n",
       "      <td>tidak kecewa</td>\n",
       "      <td>tidak kecewa</td>\n",
       "      <td>tidak kecewa</td>\n",
       "      <td>tidak kecewa</td>\n",
       "    </tr>\n",
       "    <tr>\n",
       "      <th>10996</th>\n",
       "      <td>enak rasa masakan nya apalagi kepiting yang me...</td>\n",
       "      <td>positive</td>\n",
       "      <td>enak rasa masakan nya apalagi kepiting yang me...</td>\n",
       "      <td>enak rasa masakan nya apalagi kepiting yang me...</td>\n",
       "      <td>enak rasa masakan nya apalagi kepiting yang me...</td>\n",
       "      <td>enak rasa masakan nya apalagi kepiting yang me...</td>\n",
       "    </tr>\n",
       "    <tr>\n",
       "      <th>10997</th>\n",
       "      <td>hormati partai-partai yang telah berkoalisi</td>\n",
       "      <td>neutral</td>\n",
       "      <td>hormati partai partai yang telah berkoalisi</td>\n",
       "      <td>hormati partai partai yang telah berkoalisi</td>\n",
       "      <td>hormati partai partai yang telah berkoalisi</td>\n",
       "      <td>hormati partai partai yang telah berkoalisi</td>\n",
       "    </tr>\n",
       "    <tr>\n",
       "      <th>10998</th>\n",
       "      <td>pagi pagi di tol pasteur sudah macet parah , b...</td>\n",
       "      <td>negative</td>\n",
       "      <td>pagi pagi di tol pasteur sudah macet parah bik...</td>\n",
       "      <td>pagi pagi di tol pasteur sudah macet parah bik...</td>\n",
       "      <td>pagi pagi di tol pasteur sudah macet parah bik...</td>\n",
       "      <td>pagi pagi di tol pasteur sudah macet parah bik...</td>\n",
       "    </tr>\n",
       "    <tr>\n",
       "      <th>10999</th>\n",
       "      <td>meskipun sering belanja ke yogya di riau junct...</td>\n",
       "      <td>positive</td>\n",
       "      <td>meskipun sering belanja ke yogya di riau junct...</td>\n",
       "      <td>meskipun sering belanja ke yogya di riau junct...</td>\n",
       "      <td>meskipun sering belanja ke yogyakarta di riau ...</td>\n",
       "      <td>meskipun sering belanja ke yogyakarta di riau ...</td>\n",
       "    </tr>\n",
       "  </tbody>\n",
       "</table>\n",
       "<p>11000 rows × 6 columns</p>\n",
       "</div>"
      ],
      "text/plain": [
       "                                                 kalimat sentiment  \\\n",
       "0      warung ini dimiliki oleh pengusaha pabrik tahu...  positive   \n",
       "1      mohon ulama lurus dan k212 mmbri hujjah partai...   neutral   \n",
       "2      lokasi strategis di jalan sumatera bandung . t...  positive   \n",
       "3      betapa bahagia nya diri ini saat unboxing pake...  positive   \n",
       "4      duh . jadi mahasiswa jangan sombong dong . kas...  negative   \n",
       "...                                                  ...       ...   \n",
       "10995                                       tidak kecewa  positive   \n",
       "10996  enak rasa masakan nya apalagi kepiting yang me...  positive   \n",
       "10997        hormati partai-partai yang telah berkoalisi   neutral   \n",
       "10998  pagi pagi di tol pasteur sudah macet parah , b...  negative   \n",
       "10999  meskipun sering belanja ke yogya di riau junct...  positive   \n",
       "\n",
       "                                              clean text  \\\n",
       "0      warung ini dimiliki oleh pengusaha pabrik tahu...   \n",
       "1      mohon ulama lurus dan k212 mmbri hujjah partai...   \n",
       "2      lokasi strategis di jalan sumatera bandung tem...   \n",
       "3      betapa bahagia nya diri ini saat unboxing pake...   \n",
       "4      duh jadi mahasiswa jangan sombong dong kasih k...   \n",
       "...                                                  ...   \n",
       "10995                                       tidak kecewa   \n",
       "10996  enak rasa masakan nya apalagi kepiting yang me...   \n",
       "10997        hormati partai partai yang telah berkoalisi   \n",
       "10998  pagi pagi di tol pasteur sudah macet parah bik...   \n",
       "10999  meskipun sering belanja ke yogya di riau junct...   \n",
       "\n",
       "                                           clean abusive  \\\n",
       "0      warung ini dimiliki oleh pengusaha pabrik tahu...   \n",
       "1      mohon ulama lurus dan k212 mmbri hujjah partai...   \n",
       "2      lokasi strategis di jalan sumatera bandung tem...   \n",
       "3      betapa bahagia nya diri ini saat unboxing pake...   \n",
       "4      duh jadi mahasiswa jangan sombong dong kasih k...   \n",
       "...                                                  ...   \n",
       "10995                                       tidak kecewa   \n",
       "10996  enak rasa masakan nya apalagi kepiting yang me...   \n",
       "10997        hormati partai partai yang telah berkoalisi   \n",
       "10998  pagi pagi di tol pasteur sudah macet parah bik...   \n",
       "10999  meskipun sering belanja ke yogya di riau junct...   \n",
       "\n",
       "                                              clean alay  \\\n",
       "0      warung ini dimiliki oleh pengusaha pabrik tahu...   \n",
       "1      mohon ulama lurus dan k212 mmbri hujjah partai...   \n",
       "2      lokasi strategis di jalan sumatra bandung temp...   \n",
       "3      betapa bahagia nya diri ini saat unboxing pake...   \n",
       "4      aduh jadi mahasiswa jangan sombong dong kasih ...   \n",
       "...                                                  ...   \n",
       "10995                                       tidak kecewa   \n",
       "10996  enak rasa masakan nya apalagi kepiting yang me...   \n",
       "10997        hormati partai partai yang telah berkoalisi   \n",
       "10998  pagi pagi di tol pasteur sudah macet parah bik...   \n",
       "10999  meskipun sering belanja ke yogyakarta di riau ...   \n",
       "\n",
       "                                      clean abusive alay  \n",
       "0      warung ini dimiliki oleh pengusaha pabrik tahu...  \n",
       "1      mohon ulama lurus dan k212 mmbri hujjah partai...  \n",
       "2      lokasi strategis di jalan sumatra bandung temp...  \n",
       "3      betapa bahagia nya diri ini saat unboxing pake...  \n",
       "4      aduh jadi mahasiswa jangan sombong dong kasih ...  \n",
       "...                                                  ...  \n",
       "10995                                       tidak kecewa  \n",
       "10996  enak rasa masakan nya apalagi kepiting yang me...  \n",
       "10997        hormati partai partai yang telah berkoalisi  \n",
       "10998  pagi pagi di tol pasteur sudah macet parah bik...  \n",
       "10999  meskipun sering belanja ke yogyakarta di riau ...  \n",
       "\n",
       "[11000 rows x 6 columns]"
      ]
     },
     "execution_count": 1,
     "metadata": {},
     "output_type": "execute_result"
    }
   ],
   "source": [
    "import pandas as pd\n",
    "\n",
    "df = df = pd.read_csv(\"clean_data.csv\", index_col=[0], sep=\"\\t\")\n",
    "df.reset_index(drop=True)\n",
    "df"
   ]
  },
  {
   "cell_type": "code",
   "execution_count": 2,
   "id": "62170a75",
   "metadata": {},
   "outputs": [
    {
     "data": {
      "text/html": [
       "<div>\n",
       "<style scoped>\n",
       "    .dataframe tbody tr th:only-of-type {\n",
       "        vertical-align: middle;\n",
       "    }\n",
       "\n",
       "    .dataframe tbody tr th {\n",
       "        vertical-align: top;\n",
       "    }\n",
       "\n",
       "    .dataframe thead th {\n",
       "        text-align: right;\n",
       "    }\n",
       "</style>\n",
       "<table border=\"1\" class=\"dataframe\">\n",
       "  <thead>\n",
       "    <tr style=\"text-align: right;\">\n",
       "      <th></th>\n",
       "      <th>kalimat</th>\n",
       "      <th>sentiment</th>\n",
       "      <th>clean text</th>\n",
       "      <th>clean abusive</th>\n",
       "      <th>clean alay</th>\n",
       "      <th>clean abusive alay</th>\n",
       "    </tr>\n",
       "  </thead>\n",
       "  <tbody>\n",
       "    <tr>\n",
       "      <th>0</th>\n",
       "      <td>warung ini dimiliki oleh pengusaha pabrik tahu...</td>\n",
       "      <td>positive</td>\n",
       "      <td>warung ini dimiliki oleh pengusaha pabrik tahu...</td>\n",
       "      <td>warung ini dimiliki oleh pengusaha pabrik tahu...</td>\n",
       "      <td>warung ini dimiliki oleh pengusaha pabrik tahu...</td>\n",
       "      <td>warung ini dimiliki oleh pengusaha pabrik tahu...</td>\n",
       "    </tr>\n",
       "    <tr>\n",
       "      <th>1</th>\n",
       "      <td>mohon ulama lurus dan k212 mmbri hujjah partai...</td>\n",
       "      <td>neutral</td>\n",
       "      <td>mohon ulama lurus dan k212 mmbri hujjah partai...</td>\n",
       "      <td>mohon ulama lurus dan k212 mmbri hujjah partai...</td>\n",
       "      <td>mohon ulama lurus dan k212 mmbri hujjah partai...</td>\n",
       "      <td>mohon ulama lurus dan k212 mmbri hujjah partai...</td>\n",
       "    </tr>\n",
       "    <tr>\n",
       "      <th>2</th>\n",
       "      <td>lokasi strategis di jalan sumatera bandung . t...</td>\n",
       "      <td>positive</td>\n",
       "      <td>lokasi strategis di jalan sumatera bandung tem...</td>\n",
       "      <td>lokasi strategis di jalan sumatera bandung tem...</td>\n",
       "      <td>lokasi strategis di jalan sumatra bandung temp...</td>\n",
       "      <td>lokasi strategis di jalan sumatra bandung temp...</td>\n",
       "    </tr>\n",
       "    <tr>\n",
       "      <th>3</th>\n",
       "      <td>betapa bahagia nya diri ini saat unboxing pake...</td>\n",
       "      <td>positive</td>\n",
       "      <td>betapa bahagia nya diri ini saat unboxing pake...</td>\n",
       "      <td>betapa bahagia nya diri ini saat unboxing pake...</td>\n",
       "      <td>betapa bahagia nya diri ini saat unboxing pake...</td>\n",
       "      <td>betapa bahagia nya diri ini saat unboxing pake...</td>\n",
       "    </tr>\n",
       "    <tr>\n",
       "      <th>4</th>\n",
       "      <td>duh . jadi mahasiswa jangan sombong dong . kas...</td>\n",
       "      <td>negative</td>\n",
       "      <td>duh jadi mahasiswa jangan sombong dong kasih k...</td>\n",
       "      <td>duh jadi mahasiswa jangan sombong dong kasih k...</td>\n",
       "      <td>aduh jadi mahasiswa jangan sombong dong kasih ...</td>\n",
       "      <td>aduh jadi mahasiswa jangan sombong dong kasih ...</td>\n",
       "    </tr>\n",
       "  </tbody>\n",
       "</table>\n",
       "</div>"
      ],
      "text/plain": [
       "                                             kalimat sentiment  \\\n",
       "0  warung ini dimiliki oleh pengusaha pabrik tahu...  positive   \n",
       "1  mohon ulama lurus dan k212 mmbri hujjah partai...   neutral   \n",
       "2  lokasi strategis di jalan sumatera bandung . t...  positive   \n",
       "3  betapa bahagia nya diri ini saat unboxing pake...  positive   \n",
       "4  duh . jadi mahasiswa jangan sombong dong . kas...  negative   \n",
       "\n",
       "                                          clean text  \\\n",
       "0  warung ini dimiliki oleh pengusaha pabrik tahu...   \n",
       "1  mohon ulama lurus dan k212 mmbri hujjah partai...   \n",
       "2  lokasi strategis di jalan sumatera bandung tem...   \n",
       "3  betapa bahagia nya diri ini saat unboxing pake...   \n",
       "4  duh jadi mahasiswa jangan sombong dong kasih k...   \n",
       "\n",
       "                                       clean abusive  \\\n",
       "0  warung ini dimiliki oleh pengusaha pabrik tahu...   \n",
       "1  mohon ulama lurus dan k212 mmbri hujjah partai...   \n",
       "2  lokasi strategis di jalan sumatera bandung tem...   \n",
       "3  betapa bahagia nya diri ini saat unboxing pake...   \n",
       "4  duh jadi mahasiswa jangan sombong dong kasih k...   \n",
       "\n",
       "                                          clean alay  \\\n",
       "0  warung ini dimiliki oleh pengusaha pabrik tahu...   \n",
       "1  mohon ulama lurus dan k212 mmbri hujjah partai...   \n",
       "2  lokasi strategis di jalan sumatra bandung temp...   \n",
       "3  betapa bahagia nya diri ini saat unboxing pake...   \n",
       "4  aduh jadi mahasiswa jangan sombong dong kasih ...   \n",
       "\n",
       "                                  clean abusive alay  \n",
       "0  warung ini dimiliki oleh pengusaha pabrik tahu...  \n",
       "1  mohon ulama lurus dan k212 mmbri hujjah partai...  \n",
       "2  lokasi strategis di jalan sumatra bandung temp...  \n",
       "3  betapa bahagia nya diri ini saat unboxing pake...  \n",
       "4  aduh jadi mahasiswa jangan sombong dong kasih ...  "
      ]
     },
     "execution_count": 2,
     "metadata": {},
     "output_type": "execute_result"
    }
   ],
   "source": [
    "df.head()"
   ]
  },
  {
   "cell_type": "code",
   "execution_count": 3,
   "id": "bd809aa4",
   "metadata": {},
   "outputs": [
    {
     "data": {
      "text/plain": [
       "(11000, 6)"
      ]
     },
     "execution_count": 3,
     "metadata": {},
     "output_type": "execute_result"
    }
   ],
   "source": [
    "df.shape"
   ]
  },
  {
   "cell_type": "code",
   "execution_count": 4,
   "id": "705d89f8",
   "metadata": {},
   "outputs": [],
   "source": [
    "df.rename(columns = {'clean text':'clean_text'}, inplace = True)"
   ]
  },
  {
   "cell_type": "code",
   "execution_count": 5,
   "id": "747a1315",
   "metadata": {},
   "outputs": [
    {
     "data": {
      "text/html": [
       "<div>\n",
       "<style scoped>\n",
       "    .dataframe tbody tr th:only-of-type {\n",
       "        vertical-align: middle;\n",
       "    }\n",
       "\n",
       "    .dataframe tbody tr th {\n",
       "        vertical-align: top;\n",
       "    }\n",
       "\n",
       "    .dataframe thead th {\n",
       "        text-align: right;\n",
       "    }\n",
       "</style>\n",
       "<table border=\"1\" class=\"dataframe\">\n",
       "  <thead>\n",
       "    <tr style=\"text-align: right;\">\n",
       "      <th></th>\n",
       "      <th>kalimat</th>\n",
       "      <th>sentiment</th>\n",
       "      <th>clean_text</th>\n",
       "      <th>clean abusive</th>\n",
       "      <th>clean alay</th>\n",
       "      <th>clean abusive alay</th>\n",
       "    </tr>\n",
       "  </thead>\n",
       "  <tbody>\n",
       "    <tr>\n",
       "      <th>0</th>\n",
       "      <td>warung ini dimiliki oleh pengusaha pabrik tahu...</td>\n",
       "      <td>positive</td>\n",
       "      <td>warung ini dimiliki oleh pengusaha pabrik tahu...</td>\n",
       "      <td>warung ini dimiliki oleh pengusaha pabrik tahu...</td>\n",
       "      <td>warung ini dimiliki oleh pengusaha pabrik tahu...</td>\n",
       "      <td>warung ini dimiliki oleh pengusaha pabrik tahu...</td>\n",
       "    </tr>\n",
       "    <tr>\n",
       "      <th>1</th>\n",
       "      <td>mohon ulama lurus dan k212 mmbri hujjah partai...</td>\n",
       "      <td>neutral</td>\n",
       "      <td>mohon ulama lurus dan k212 mmbri hujjah partai...</td>\n",
       "      <td>mohon ulama lurus dan k212 mmbri hujjah partai...</td>\n",
       "      <td>mohon ulama lurus dan k212 mmbri hujjah partai...</td>\n",
       "      <td>mohon ulama lurus dan k212 mmbri hujjah partai...</td>\n",
       "    </tr>\n",
       "    <tr>\n",
       "      <th>2</th>\n",
       "      <td>lokasi strategis di jalan sumatera bandung . t...</td>\n",
       "      <td>positive</td>\n",
       "      <td>lokasi strategis di jalan sumatera bandung tem...</td>\n",
       "      <td>lokasi strategis di jalan sumatera bandung tem...</td>\n",
       "      <td>lokasi strategis di jalan sumatra bandung temp...</td>\n",
       "      <td>lokasi strategis di jalan sumatra bandung temp...</td>\n",
       "    </tr>\n",
       "    <tr>\n",
       "      <th>3</th>\n",
       "      <td>betapa bahagia nya diri ini saat unboxing pake...</td>\n",
       "      <td>positive</td>\n",
       "      <td>betapa bahagia nya diri ini saat unboxing pake...</td>\n",
       "      <td>betapa bahagia nya diri ini saat unboxing pake...</td>\n",
       "      <td>betapa bahagia nya diri ini saat unboxing pake...</td>\n",
       "      <td>betapa bahagia nya diri ini saat unboxing pake...</td>\n",
       "    </tr>\n",
       "    <tr>\n",
       "      <th>4</th>\n",
       "      <td>duh . jadi mahasiswa jangan sombong dong . kas...</td>\n",
       "      <td>negative</td>\n",
       "      <td>duh jadi mahasiswa jangan sombong dong kasih k...</td>\n",
       "      <td>duh jadi mahasiswa jangan sombong dong kasih k...</td>\n",
       "      <td>aduh jadi mahasiswa jangan sombong dong kasih ...</td>\n",
       "      <td>aduh jadi mahasiswa jangan sombong dong kasih ...</td>\n",
       "    </tr>\n",
       "  </tbody>\n",
       "</table>\n",
       "</div>"
      ],
      "text/plain": [
       "                                             kalimat sentiment  \\\n",
       "0  warung ini dimiliki oleh pengusaha pabrik tahu...  positive   \n",
       "1  mohon ulama lurus dan k212 mmbri hujjah partai...   neutral   \n",
       "2  lokasi strategis di jalan sumatera bandung . t...  positive   \n",
       "3  betapa bahagia nya diri ini saat unboxing pake...  positive   \n",
       "4  duh . jadi mahasiswa jangan sombong dong . kas...  negative   \n",
       "\n",
       "                                          clean_text  \\\n",
       "0  warung ini dimiliki oleh pengusaha pabrik tahu...   \n",
       "1  mohon ulama lurus dan k212 mmbri hujjah partai...   \n",
       "2  lokasi strategis di jalan sumatera bandung tem...   \n",
       "3  betapa bahagia nya diri ini saat unboxing pake...   \n",
       "4  duh jadi mahasiswa jangan sombong dong kasih k...   \n",
       "\n",
       "                                       clean abusive  \\\n",
       "0  warung ini dimiliki oleh pengusaha pabrik tahu...   \n",
       "1  mohon ulama lurus dan k212 mmbri hujjah partai...   \n",
       "2  lokasi strategis di jalan sumatera bandung tem...   \n",
       "3  betapa bahagia nya diri ini saat unboxing pake...   \n",
       "4  duh jadi mahasiswa jangan sombong dong kasih k...   \n",
       "\n",
       "                                          clean alay  \\\n",
       "0  warung ini dimiliki oleh pengusaha pabrik tahu...   \n",
       "1  mohon ulama lurus dan k212 mmbri hujjah partai...   \n",
       "2  lokasi strategis di jalan sumatra bandung temp...   \n",
       "3  betapa bahagia nya diri ini saat unboxing pake...   \n",
       "4  aduh jadi mahasiswa jangan sombong dong kasih ...   \n",
       "\n",
       "                                  clean abusive alay  \n",
       "0  warung ini dimiliki oleh pengusaha pabrik tahu...  \n",
       "1  mohon ulama lurus dan k212 mmbri hujjah partai...  \n",
       "2  lokasi strategis di jalan sumatra bandung temp...  \n",
       "3  betapa bahagia nya diri ini saat unboxing pake...  \n",
       "4  aduh jadi mahasiswa jangan sombong dong kasih ...  "
      ]
     },
     "execution_count": 5,
     "metadata": {},
     "output_type": "execute_result"
    }
   ],
   "source": [
    "df.head()"
   ]
  },
  {
   "cell_type": "code",
   "execution_count": 6,
   "id": "7e1725af",
   "metadata": {},
   "outputs": [
    {
     "data": {
      "text/plain": [
       "sentiment\n",
       "positive    6416\n",
       "negative    3436\n",
       "neutral     1148\n",
       "Name: count, dtype: int64"
      ]
     },
     "execution_count": 6,
     "metadata": {},
     "output_type": "execute_result"
    }
   ],
   "source": [
    "df.sentiment.value_counts()"
   ]
  },
  {
   "cell_type": "code",
   "execution_count": 7,
   "id": "e92b31bd",
   "metadata": {},
   "outputs": [],
   "source": [
    "neg = df.loc[df['sentiment'] == 'negative'].clean_text.tolist()\n",
    "neu = df.loc[df['sentiment'] == 'neutral'].clean_text.tolist()\n",
    "pos = df.loc[df['sentiment'] == 'positive'].clean_text.tolist()\n",
    "\n",
    "neg_label = df.loc[df['sentiment'] == 'negative'].sentiment.tolist()\n",
    "neu_label = df.loc[df['sentiment'] == 'neutral'].sentiment.tolist()\n",
    "pos_label = df.loc[df['sentiment'] == 'positive'].sentiment.tolist()"
   ]
  },
  {
   "cell_type": "code",
   "execution_count": 8,
   "id": "1d10abef",
   "metadata": {},
   "outputs": [
    {
     "name": "stdout",
     "output_type": "stream",
     "text": [
      "Pos: 6416, Neu: 1148, Neg: 3436\n",
      "Total Data: 11000\n"
     ]
    }
   ],
   "source": [
    "total_data = pos + neu + neg\n",
    "labels =pos_label + neu_label + neg_label\n",
    "print(\"Pos: %s, Neu: %s, Neg: %s\" % (len(pos), len(neu), len(neg)))\n",
    "print(\"Total Data: %s\" % len(total_data))"
   ]
  },
  {
   "cell_type": "code",
   "execution_count": 9,
   "id": "29d8595d",
   "metadata": {},
   "outputs": [
    {
     "name": "stdout",
     "output_type": "stream",
     "text": [
      "tokenizer.pickle has created\n",
      "x_pad_sequences.pickle has created\n"
     ]
    }
   ],
   "source": [
    "import pickle\n",
    "from tensorflow.keras.preprocessing.text import Tokenizer\n",
    "from tensorflow.keras.preprocessing.sequence import pad_sequences\n",
    "from collections import defaultdict\n",
    "\n",
    "max_features = 100000\n",
    "tokenizer = Tokenizer(num_words=max_features, split= ' ', lower=True)\n",
    "tokenizer.fit_on_texts(total_data)\n",
    "with open('tokenizer.pickle', 'wb') as handle:\n",
    "    pickle.dump(tokenizer, handle, protocol = pickle.HIGHEST_PROTOCOL)\n",
    "    print(\"tokenizer.pickle has created\")\n",
    "    \n",
    "X = tokenizer.texts_to_sequences(total_data)\n",
    "\n",
    "vocab_size = len(tokenizer.word_index)\n",
    "maxlen = max(len(x) for x in X)\n",
    "\n",
    "X = pad_sequences(X)\n",
    "with open('x_pad_sequences.pickle', 'wb',) as handle:\n",
    "    pickle.dump(X, handle, protocol=pickle.HIGHEST_PROTOCOL)\n",
    "    print(\"x_pad_sequences.pickle has created\")"
   ]
  },
  {
   "cell_type": "code",
   "execution_count": 10,
   "id": "0ae7e43e",
   "metadata": {},
   "outputs": [
    {
     "name": "stdout",
     "output_type": "stream",
     "text": [
      "y_labels.pickle has created!\n"
     ]
    }
   ],
   "source": [
    "Y = pd.get_dummies(labels)\n",
    "Y = Y.values\n",
    "\n",
    "with open('y_labels.pickle', 'wb') as handle:\n",
    "    pickle.dump(Y, handle, protocol=pickle.HIGHEST_PROTOCOL)\n",
    "    print(\"y_labels.pickle has created!\")"
   ]
  },
  {
   "cell_type": "code",
   "execution_count": 11,
   "id": "bedc88bf",
   "metadata": {},
   "outputs": [],
   "source": [
    "from sklearn.model_selection import train_test_split\n",
    "\n",
    "file = open(\"x_pad_sequences.pickle\", 'rb')\n",
    "X = pickle.load(file)\n",
    "file.close()\n",
    "\n",
    "file = open(\"y_labels.pickle\", 'rb')\n",
    "Y = pickle.load(file)\n",
    "file.close()\n",
    "X_train, X_test, y_train, y_test = train_test_split(X, Y, test_size=0.2, random_state=1)"
   ]
  },
  {
   "cell_type": "code",
   "execution_count": 12,
   "id": "aabac867",
   "metadata": {},
   "outputs": [],
   "source": [
    "import numpy as np\n",
    "from tensorflow.keras import layers\n",
    "from tensorflow.keras.models import Sequential\n",
    "from tensorflow.keras.layers import Dense, Embedding, LSTM, SpatialDropout1D, SimpleRNN, Activation\n",
    "from tensorflow.keras import optimizers\n",
    "from tensorflow.keras.callbacks import EarlyStopping, TensorBoard\n",
    "from tensorflow.keras.layers import Flatten\n",
    "from tensorflow.keras import backend as K"
   ]
  },
  {
   "cell_type": "code",
   "execution_count": 13,
   "id": "2693d30d",
   "metadata": {},
   "outputs": [
    {
     "name": "stdout",
     "output_type": "stream",
     "text": [
      "Model: \"sequential\"\n",
      "_________________________________________________________________\n",
      " Layer (type)                Output Shape              Param #   \n",
      "=================================================================\n",
      " embedding (Embedding)       (None, 96, 100)           10000000  \n",
      "                                                                 \n",
      " lstm (LSTM)                 (None, 64)                42240     \n",
      "                                                                 \n",
      " dense (Dense)               (None, 3)                 195       \n",
      "                                                                 \n",
      "=================================================================\n",
      "Total params: 10042435 (38.31 MB)\n",
      "Trainable params: 10042435 (38.31 MB)\n",
      "Non-trainable params: 0 (0.00 Byte)\n",
      "_________________________________________________________________\n",
      "None\n",
      "Epoch 1/10\n",
      "880/880 [==============================] - 65s 73ms/step - loss: 0.4444 - accuracy: 0.8206 - val_loss: 0.3288 - val_accuracy: 0.8782\n",
      "Epoch 2/10\n",
      "880/880 [==============================] - 64s 73ms/step - loss: 0.1922 - accuracy: 0.9294 - val_loss: 0.3422 - val_accuracy: 0.8791\n",
      "Epoch 2: early stopping\n"
     ]
    }
   ],
   "source": [
    "embed_dim = 100\n",
    "units = 64\n",
    "\n",
    "model = Sequential()\n",
    "model.add(Embedding(max_features, embed_dim, input_length=X.shape[1]))\n",
    "model.add(LSTM(units, dropout=0.2))\n",
    "model.add(Dense(3,activation='softmax'))\n",
    "model.compile(loss = 'binary_crossentropy', optimizer = 'adam', metrics = ['accuracy'])\n",
    "print(model.summary())\n",
    "\n",
    "adam = optimizers.Adam(learning_rate = 0.001)\n",
    "model.compile(loss = 'categorical_crossentropy', optimizer= adam, metrics = ['accuracy'])\n",
    "\n",
    "es = EarlyStopping(monitor='val_loss', mode='min', verbose=1)\n",
    "history = model.fit(X_train, y_train, epochs=10, batch_size=10, validation_data=(X_test, y_test), verbose=1, callbacks=[es])"
   ]
  },
  {
   "cell_type": "code",
   "execution_count": 14,
   "id": "af9da477",
   "metadata": {},
   "outputs": [
    {
     "data": {
      "text/plain": [
       "96"
      ]
     },
     "execution_count": 14,
     "metadata": {},
     "output_type": "execute_result"
    }
   ],
   "source": [
    "X.shape[1]"
   ]
  },
  {
   "cell_type": "code",
   "execution_count": 15,
   "id": "87c7a65a",
   "metadata": {},
   "outputs": [
    {
     "name": "stdout",
     "output_type": "stream",
     "text": [
      "69/69 [==============================] - 1s 14ms/step\n",
      "Testing selesai\n",
      "              precision    recall  f1-score   support\n",
      "\n",
      "           0       0.83      0.85      0.84       685\n",
      "           1       0.80      0.81      0.80       233\n",
      "           2       0.92      0.91      0.91      1282\n",
      "\n",
      "    accuracy                           0.88      2200\n",
      "   macro avg       0.85      0.85      0.85      2200\n",
      "weighted avg       0.88      0.88      0.88      2200\n",
      "\n"
     ]
    }
   ],
   "source": [
    "from sklearn import metrics\n",
    "\n",
    "predictions = model.predict(X_test)\n",
    "y_pred = predictions\n",
    "matrix_test = metrics.classification_report(y_test.argmax(axis=1), y_pred.argmax(axis=1))\n",
    "print(\"Testing selesai\")\n",
    "print(matrix_test)"
   ]
  },
  {
   "cell_type": "code",
   "execution_count": 16,
   "id": "68f8de0f",
   "metadata": {
    "scrolled": true
   },
   "outputs": [
    {
     "name": "stdout",
     "output_type": "stream",
     "text": [
      "Epoch 1/10\n",
      "880/880 [==============================] - 70s 77ms/step - loss: 0.4529 - accuracy: 0.8203 - val_loss: 0.3773 - val_accuracy: 0.8559\n",
      "Epoch 2/10\n",
      "880/880 [==============================] - 66s 76ms/step - loss: 0.2003 - accuracy: 0.9284 - val_loss: 0.3621 - val_accuracy: 0.8727\n",
      "Epoch 3/10\n",
      "880/880 [==============================] - 67s 76ms/step - loss: 0.1151 - accuracy: 0.9576 - val_loss: 0.3940 - val_accuracy: 0.8600\n",
      "69/69 [==============================] - 1s 14ms/step\n",
      "Training ke- 1\n",
      "              precision    recall  f1-score   support\n",
      "\n",
      "           0       0.79      0.84      0.81       685\n",
      "           1       0.82      0.76      0.79       233\n",
      "           2       0.91      0.89      0.90      1282\n",
      "\n",
      "    accuracy                           0.86      2200\n",
      "   macro avg       0.84      0.83      0.83      2200\n",
      "weighted avg       0.86      0.86      0.86      2200\n",
      "\n",
      "===================================================================\n",
      "Epoch 1/10\n",
      "880/880 [==============================] - 70s 77ms/step - loss: 0.4580 - accuracy: 0.8149 - val_loss: 0.3336 - val_accuracy: 0.8823\n",
      "Epoch 2/10\n",
      "880/880 [==============================] - 67s 76ms/step - loss: 0.2010 - accuracy: 0.9270 - val_loss: 0.3434 - val_accuracy: 0.8827\n",
      "69/69 [==============================] - 1s 14ms/step\n",
      "Training ke- 2\n",
      "              precision    recall  f1-score   support\n",
      "\n",
      "           0       0.84      0.85      0.84       685\n",
      "           1       0.84      0.78      0.81       233\n",
      "           2       0.91      0.92      0.92      1282\n",
      "\n",
      "    accuracy                           0.88      2200\n",
      "   macro avg       0.86      0.85      0.86      2200\n",
      "weighted avg       0.88      0.88      0.88      2200\n",
      "\n",
      "===================================================================\n",
      "Epoch 1/10\n",
      "880/880 [==============================] - 71s 79ms/step - loss: 0.4523 - accuracy: 0.8183 - val_loss: 0.3397 - val_accuracy: 0.8741\n",
      "Epoch 2/10\n",
      "880/880 [==============================] - 69s 79ms/step - loss: 0.1917 - accuracy: 0.9295 - val_loss: 0.3615 - val_accuracy: 0.8655\n",
      "69/69 [==============================] - 2s 19ms/step\n",
      "Training ke- 3\n",
      "              precision    recall  f1-score   support\n",
      "\n",
      "           0       0.79      0.89      0.84       685\n",
      "           1       0.75      0.84      0.79       233\n",
      "           2       0.94      0.86      0.90      1282\n",
      "\n",
      "    accuracy                           0.87      2200\n",
      "   macro avg       0.83      0.86      0.84      2200\n",
      "weighted avg       0.87      0.87      0.87      2200\n",
      "\n",
      "===================================================================\n",
      "Epoch 1/10\n",
      "880/880 [==============================] - 72s 79ms/step - loss: 0.4517 - accuracy: 0.8215 - val_loss: 0.3653 - val_accuracy: 0.8641\n",
      "Epoch 2/10\n",
      "880/880 [==============================] - 67s 76ms/step - loss: 0.1947 - accuracy: 0.9275 - val_loss: 0.3735 - val_accuracy: 0.8582\n",
      "69/69 [==============================] - 2s 18ms/step\n",
      "Training ke- 4\n",
      "              precision    recall  f1-score   support\n",
      "\n",
      "           0       0.86      0.75      0.80       685\n",
      "           1       0.70      0.80      0.75       233\n",
      "           2       0.89      0.93      0.91      1282\n",
      "\n",
      "    accuracy                           0.86      2200\n",
      "   macro avg       0.82      0.83      0.82      2200\n",
      "weighted avg       0.86      0.86      0.86      2200\n",
      "\n",
      "===================================================================\n",
      "Epoch 1/10\n",
      "880/880 [==============================] - 69s 76ms/step - loss: 0.4587 - accuracy: 0.8224 - val_loss: 0.3309 - val_accuracy: 0.8805\n",
      "Epoch 2/10\n",
      "880/880 [==============================] - 67s 76ms/step - loss: 0.2001 - accuracy: 0.9250 - val_loss: 0.3513 - val_accuracy: 0.8705\n",
      "69/69 [==============================] - 2s 16ms/step\n",
      "Training ke- 5\n",
      "              precision    recall  f1-score   support\n",
      "\n",
      "           0       0.87      0.77      0.81       685\n",
      "           1       0.85      0.76      0.80       233\n",
      "           2       0.87      0.95      0.91      1282\n",
      "\n",
      "    accuracy                           0.87      2200\n",
      "   macro avg       0.86      0.82      0.84      2200\n",
      "weighted avg       0.87      0.87      0.87      2200\n",
      "\n",
      "===================================================================\n",
      "\n",
      "\n",
      "\n",
      "Rata-rata accuracy:  0.8673636363636363\n"
     ]
    }
   ],
   "source": [
    "import numpy as np\n",
    "from sklearn.metrics import classification_report\n",
    "from sklearn.metrics import accuracy_score\n",
    "from sklearn.model_selection import KFold\n",
    "\n",
    "kf = KFold(n_splits=5, random_state=42, shuffle=True)\n",
    "\n",
    "accuracies = []\n",
    "\n",
    "y = Y\n",
    "\n",
    "embed_dim = 100\n",
    "units = 64\n",
    "\n",
    "for iteration, data in enumerate(kf.split(X), start=1):\n",
    "\n",
    "    data_train   = X[data[0]]\n",
    "    target_train = y[data[0]]\n",
    "    \n",
    "    data_test    = X[data[1]]\n",
    "    target_test  = y[data[1]]\n",
    "    \n",
    "    model = Sequential()\n",
    "    model.add(Embedding(max_features, embed_dim, input_length=X.shape[1]))\n",
    "    model.add(LSTM(units, dropout=0.2))\n",
    "    model.add(Dense(3,activation='softmax'))\n",
    "    model.compile(loss = 'binary_crossentropy', optimizer = 'adam', metrics = ['accuracy'])\n",
    "    \n",
    "    adam = optimizers.Adam(learning_rate = 0.001)\n",
    "    model.compile(loss = 'categorical_crossentropy', optimizer= adam, metrics = ['accuracy'])\n",
    "    \n",
    "    #verbose untuk menghilangkan langkah-langkah seperti memunculkan epoch sehingga untuk menghilangkannya atau menyimbunyikannya dapat diset menjadi 0\n",
    "    es = EarlyStopping(monitor='val_loss', mode='min', verbose=0)\n",
    "    history = model.fit(X_train, y_train, epochs=10, batch_size=10, validation_data=(X_test, y_test), verbose=1, callbacks=[es])\n",
    "    \n",
    "    predictions = model.predict(X_test)\n",
    "    y_pred = predictions\n",
    "    \n",
    "    accuracy = accuracy_score(y_test.argmax(axis=1), y_pred.argmax(axis=1))\n",
    "    \n",
    "    print(\"Training ke-\", iteration)\n",
    "    print(classification_report(y_test.argmax(axis=1), y_pred.argmax(axis=1)))\n",
    "    print(\"===================================================================\")\n",
    "\n",
    "    accuracies.append(accuracy)\n",
    "    \n",
    "average_accuracy = np.mean(accuracies)\n",
    "    \n",
    "print()\n",
    "print()\n",
    "print()\n",
    "print(\"Rata-rata accuracy: \", average_accuracy)"
   ]
  },
  {
   "cell_type": "code",
   "execution_count": 17,
   "id": "deb2035a",
   "metadata": {},
   "outputs": [
    {
     "data": {
      "image/png": "[encoded data removed]",
      "text/plain": [
       "<Figure size 1200x500 with 2 Axes>"
      ]
     },
     "metadata": {},
     "output_type": "display_data"
    }
   ],
   "source": [
    "import matplotlib.pyplot as plt\n",
    "plt.style.use('ggplot')\n",
    "\n",
    "def plot_history(history):\n",
    "    acc = history.history['accuracy']\n",
    "    val_acc = history.history['val_accuracy']\n",
    "    loss = history.history['loss']\n",
    "    val_loss = history.history['val_loss']\n",
    "    x = range(1, len(acc) + 1)\n",
    "    \n",
    "    plt.figure(figsize=(12, 5))\n",
    "    plt.subplot(1, 2, 1)\n",
    "    plt.plot(x, acc, 'b', label='Training acc')\n",
    "    plt.plot(x, val_acc, 'r', label='Validation acc')\n",
    "    plt.title('Training and validation accuracy')\n",
    "    plt.legend()\n",
    "    plt.subplot(1, 2, 2)\n",
    "    plt.plot(x, loss, 'b', label='Training loss')\n",
    "    plt.plot(x, val_loss, 'r', label='Validation loss')\n",
    "    plt.title('Training and validation loss')\n",
    "    plt.legend()\n",
    "    \n",
    "%matplotlib inline\n",
    "plot_history(history)"
   ]
  },
  {
   "cell_type": "code",
   "execution_count": 18,
   "id": "2824acf1",
   "metadata": {},
   "outputs": [
    {
     "data": {
      "text/plain": [
       "<Figure size 640x480 with 0 Axes>"
      ]
     },
     "metadata": {},
     "output_type": "display_data"
    }
   ],
   "source": [
    "plt.savefig('binar.png')"
   ]
  },
  {
   "cell_type": "code",
   "execution_count": 19,
   "id": "1cf4bb38",
   "metadata": {},
   "outputs": [
    {
     "name": "stdout",
     "output_type": "stream",
     "text": [
      "Model has created!\n"
     ]
    },
    {
     "name": "stderr",
     "output_type": "stream",
     "text": [
      "C:\\Users\\putra\\anaconda3\\envs\\binar\\Lib\\site-packages\\keras\\src\\engine\\training.py:3000: UserWarning: You are saving your model as an HDF5 file via `model.save()`. This file format is considered legacy. We recommend using instead the native Keras format, e.g. `model.save('my_model.keras')`.\n",
      "  saving_api.save_model(\n"
     ]
    }
   ],
   "source": [
    "model.save('modelll.h5')\n",
    "print(\"Model has created!\")"
   ]
  },
  {
   "cell_type": "code",
   "execution_count": 20,
   "id": "50089e6c",
   "metadata": {},
   "outputs": [
    {
     "name": "stdout",
     "output_type": "stream",
     "text": [
      "1/1 [==============================] - 0s 454ms/step\n",
      "Text:   kamu cantik banget deh      \n",
      "Sentiment:  positive\n"
     ]
    }
   ],
   "source": [
    "import re\n",
    "from keras.models import load_model\n",
    "\n",
    "input_text = \"\"\"\n",
    "kamu cantik banget deh.....\n",
    "\"\"\"\n",
    "\n",
    "def cleansing(sent):\n",
    "    \n",
    "    string = sent.lower()\n",
    "    string = re.sub(r'[^a-zA-Z0-9]', ' ', string)\n",
    "    return string\n",
    "\n",
    "sentiment = ['negative', 'neutral', 'positive']\n",
    "\n",
    "text = [cleansing(input_text)]\n",
    "predicted = tokenizer.texts_to_sequences(text)\n",
    "guess = pad_sequences(predicted, maxlen=X.shape[1])\n",
    "\n",
    "model = load_model('modelll.h5')\n",
    "prediction = model.predict(guess)\n",
    "polarity = np.argmax(prediction[0])\n",
    "\n",
    "print(\"Text: \", text[0])\n",
    "print(\"Sentiment: \", sentiment[polarity])"
   ]
  },
  {
   "cell_type": "code",
   "execution_count": 21,
   "id": "e33676cf",
   "metadata": {},
   "outputs": [
    {
     "data": {
      "image/png": "[encoded data removed]",
      "text/plain": [
       "<Figure size 640x480 with 1 Axes>"
      ]
     },
     "metadata": {},
     "output_type": "display_data"
    }
   ],
   "source": [
    "plt.plot(history.history['loss'], label='Training loss')\n",
    "plt.plot(history.history['val_loss'], label='Validation loss')\n",
    "plt.title('Training and validation loss')\n",
    "plt.xlabel('Epochs')\n",
    "plt.ylabel('Loss')\n",
    "plt.legend()\n",
    "plt.show()"
   ]
  },
  {
   "cell_type": "code",
   "execution_count": null,
   "id": "4f064a67",
   "metadata": {},
   "outputs": [],
   "source": []
  }
 ],
 "metadata": {
  "kernelspec": {
   "display_name": "Python 3 (ipykernel)",
   "language": "python",
   "name": "python3"
  },
  "language_info": {
   "codemirror_mode": {
    "name": "ipython",
    "version": 3
   },
   "file_extension": ".py",
   "mimetype": "text/x-python",
   "name": "python",
   "nbconvert_exporter": "python",
   "pygments_lexer": "ipython3",
   "version": "3.11.4"
  }
 },
 "nbformat": 4,
 "nbformat_minor": 5
}
