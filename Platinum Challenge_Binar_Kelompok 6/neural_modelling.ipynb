{
 "cells": [
  {
   "cell_type": "code",
   "execution_count": 1,
   "id": "77b59aed-996e-4b6b-9569-95186f9e8b7f",
   "metadata": {
    "tags": []
   },
   "outputs": [],
   "source": [
    "import pandas as pd"
   ]
  },
  {
   "cell_type": "code",
   "execution_count": 2,
   "id": "b1bcd902-d71a-4d69-980c-514ebfa87ee3",
   "metadata": {
    "tags": []
   },
   "outputs": [
    {
     "data": {
      "text/html": [
       "<div>\n",
       "<style scoped>\n",
       "    .dataframe tbody tr th:only-of-type {\n",
       "        vertical-align: middle;\n",
       "    }\n",
       "\n",
       "    .dataframe tbody tr th {\n",
       "        vertical-align: top;\n",
       "    }\n",
       "\n",
       "    .dataframe thead th {\n",
       "        text-align: right;\n",
       "    }\n",
       "</style>\n",
       "<table border=\"1\" class=\"dataframe\">\n",
       "  <thead>\n",
       "    <tr style=\"text-align: right;\">\n",
       "      <th></th>\n",
       "      <th>kalimat</th>\n",
       "      <th>sentiment</th>\n",
       "      <th>clean text</th>\n",
       "      <th>clean abusive</th>\n",
       "      <th>clean alay</th>\n",
       "      <th>clean abusive alay</th>\n",
       "    </tr>\n",
       "  </thead>\n",
       "  <tbody>\n",
       "    <tr>\n",
       "      <th>0</th>\n",
       "      <td>warung ini dimiliki oleh pengusaha pabrik tahu...</td>\n",
       "      <td>positive</td>\n",
       "      <td>warung ini dimiliki oleh pengusaha pabrik tahu...</td>\n",
       "      <td>warung ini dimiliki oleh pengusaha pabrik tahu...</td>\n",
       "      <td>warung ini dimiliki oleh pengusaha pabrik tahu...</td>\n",
       "      <td>warung ini dimiliki oleh pengusaha pabrik tahu...</td>\n",
       "    </tr>\n",
       "    <tr>\n",
       "      <th>1</th>\n",
       "      <td>mohon ulama lurus dan k212 mmbri hujjah partai...</td>\n",
       "      <td>neutral</td>\n",
       "      <td>mohon ulama lurus dan k212 mmbri hujjah partai...</td>\n",
       "      <td>mohon ulama lurus dan k212 mmbri hujjah partai...</td>\n",
       "      <td>mohon ulama lurus dan k212 mmbri hujjah partai...</td>\n",
       "      <td>mohon ulama lurus dan k212 mmbri hujjah partai...</td>\n",
       "    </tr>\n",
       "    <tr>\n",
       "      <th>2</th>\n",
       "      <td>lokasi strategis di jalan sumatera bandung . t...</td>\n",
       "      <td>positive</td>\n",
       "      <td>lokasi strategis di jalan sumatera bandung tem...</td>\n",
       "      <td>lokasi strategis di jalan sumatera bandung tem...</td>\n",
       "      <td>lokasi strategis di jalan sumatra bandung temp...</td>\n",
       "      <td>lokasi strategis di jalan sumatra bandung temp...</td>\n",
       "    </tr>\n",
       "    <tr>\n",
       "      <th>3</th>\n",
       "      <td>betapa bahagia nya diri ini saat unboxing pake...</td>\n",
       "      <td>positive</td>\n",
       "      <td>betapa bahagia nya diri ini saat unboxing pake...</td>\n",
       "      <td>betapa bahagia nya diri ini saat unboxing pake...</td>\n",
       "      <td>betapa bahagia nya diri ini saat unboxing pake...</td>\n",
       "      <td>betapa bahagia nya diri ini saat unboxing pake...</td>\n",
       "    </tr>\n",
       "    <tr>\n",
       "      <th>4</th>\n",
       "      <td>duh . jadi mahasiswa jangan sombong dong . kas...</td>\n",
       "      <td>negative</td>\n",
       "      <td>duh jadi mahasiswa jangan sombong dong kasih k...</td>\n",
       "      <td>duh jadi mahasiswa jangan sombong dong kasih k...</td>\n",
       "      <td>aduh jadi mahasiswa jangan sombong dong kasih ...</td>\n",
       "      <td>aduh jadi mahasiswa jangan sombong dong kasih ...</td>\n",
       "    </tr>\n",
       "    <tr>\n",
       "      <th>...</th>\n",
       "      <td>...</td>\n",
       "      <td>...</td>\n",
       "      <td>...</td>\n",
       "      <td>...</td>\n",
       "      <td>...</td>\n",
       "      <td>...</td>\n",
       "    </tr>\n",
       "    <tr>\n",
       "      <th>10995</th>\n",
       "      <td>tidak kecewa</td>\n",
       "      <td>positive</td>\n",
       "      <td>tidak kecewa</td>\n",
       "      <td>tidak kecewa</td>\n",
       "      <td>tidak kecewa</td>\n",
       "      <td>tidak kecewa</td>\n",
       "    </tr>\n",
       "    <tr>\n",
       "      <th>10996</th>\n",
       "      <td>enak rasa masakan nya apalagi kepiting yang me...</td>\n",
       "      <td>positive</td>\n",
       "      <td>enak rasa masakan nya apalagi kepiting yang me...</td>\n",
       "      <td>enak rasa masakan nya apalagi kepiting yang me...</td>\n",
       "      <td>enak rasa masakan nya apalagi kepiting yang me...</td>\n",
       "      <td>enak rasa masakan nya apalagi kepiting yang me...</td>\n",
       "    </tr>\n",
       "    <tr>\n",
       "      <th>10997</th>\n",
       "      <td>hormati partai-partai yang telah berkoalisi</td>\n",
       "      <td>neutral</td>\n",
       "      <td>hormati partai partai yang telah berkoalisi</td>\n",
       "      <td>hormati partai partai yang telah berkoalisi</td>\n",
       "      <td>hormati partai partai yang telah berkoalisi</td>\n",
       "      <td>hormati partai partai yang telah berkoalisi</td>\n",
       "    </tr>\n",
       "    <tr>\n",
       "      <th>10998</th>\n",
       "      <td>pagi pagi di tol pasteur sudah macet parah , b...</td>\n",
       "      <td>negative</td>\n",
       "      <td>pagi pagi di tol pasteur sudah macet parah bik...</td>\n",
       "      <td>pagi pagi di tol pasteur sudah macet parah bik...</td>\n",
       "      <td>pagi pagi di tol pasteur sudah macet parah bik...</td>\n",
       "      <td>pagi pagi di tol pasteur sudah macet parah bik...</td>\n",
       "    </tr>\n",
       "    <tr>\n",
       "      <th>10999</th>\n",
       "      <td>meskipun sering belanja ke yogya di riau junct...</td>\n",
       "      <td>positive</td>\n",
       "      <td>meskipun sering belanja ke yogya di riau junct...</td>\n",
       "      <td>meskipun sering belanja ke yogya di riau junct...</td>\n",
       "      <td>meskipun sering belanja ke yogyakarta di riau ...</td>\n",
       "      <td>meskipun sering belanja ke yogyakarta di riau ...</td>\n",
       "    </tr>\n",
       "  </tbody>\n",
       "</table>\n",
       "<p>11000 rows × 6 columns</p>\n",
       "</div>"
      ],
      "text/plain": [
       "                                                 kalimat sentiment  \\\n",
       "0      warung ini dimiliki oleh pengusaha pabrik tahu...  positive   \n",
       "1      mohon ulama lurus dan k212 mmbri hujjah partai...   neutral   \n",
       "2      lokasi strategis di jalan sumatera bandung . t...  positive   \n",
       "3      betapa bahagia nya diri ini saat unboxing pake...  positive   \n",
       "4      duh . jadi mahasiswa jangan sombong dong . kas...  negative   \n",
       "...                                                  ...       ...   \n",
       "10995                                       tidak kecewa  positive   \n",
       "10996  enak rasa masakan nya apalagi kepiting yang me...  positive   \n",
       "10997        hormati partai-partai yang telah berkoalisi   neutral   \n",
       "10998  pagi pagi di tol pasteur sudah macet parah , b...  negative   \n",
       "10999  meskipun sering belanja ke yogya di riau junct...  positive   \n",
       "\n",
       "                                              clean text  \\\n",
       "0      warung ini dimiliki oleh pengusaha pabrik tahu...   \n",
       "1      mohon ulama lurus dan k212 mmbri hujjah partai...   \n",
       "2      lokasi strategis di jalan sumatera bandung tem...   \n",
       "3      betapa bahagia nya diri ini saat unboxing pake...   \n",
       "4      duh jadi mahasiswa jangan sombong dong kasih k...   \n",
       "...                                                  ...   \n",
       "10995                                       tidak kecewa   \n",
       "10996  enak rasa masakan nya apalagi kepiting yang me...   \n",
       "10997        hormati partai partai yang telah berkoalisi   \n",
       "10998  pagi pagi di tol pasteur sudah macet parah bik...   \n",
       "10999  meskipun sering belanja ke yogya di riau junct...   \n",
       "\n",
       "                                           clean abusive  \\\n",
       "0      warung ini dimiliki oleh pengusaha pabrik tahu...   \n",
       "1      mohon ulama lurus dan k212 mmbri hujjah partai...   \n",
       "2      lokasi strategis di jalan sumatera bandung tem...   \n",
       "3      betapa bahagia nya diri ini saat unboxing pake...   \n",
       "4      duh jadi mahasiswa jangan sombong dong kasih k...   \n",
       "...                                                  ...   \n",
       "10995                                       tidak kecewa   \n",
       "10996  enak rasa masakan nya apalagi kepiting yang me...   \n",
       "10997        hormati partai partai yang telah berkoalisi   \n",
       "10998  pagi pagi di tol pasteur sudah macet parah bik...   \n",
       "10999  meskipun sering belanja ke yogya di riau junct...   \n",
       "\n",
       "                                              clean alay  \\\n",
       "0      warung ini dimiliki oleh pengusaha pabrik tahu...   \n",
       "1      mohon ulama lurus dan k212 mmbri hujjah partai...   \n",
       "2      lokasi strategis di jalan sumatra bandung temp...   \n",
       "3      betapa bahagia nya diri ini saat unboxing pake...   \n",
       "4      aduh jadi mahasiswa jangan sombong dong kasih ...   \n",
       "...                                                  ...   \n",
       "10995                                       tidak kecewa   \n",
       "10996  enak rasa masakan nya apalagi kepiting yang me...   \n",
       "10997        hormati partai partai yang telah berkoalisi   \n",
       "10998  pagi pagi di tol pasteur sudah macet parah bik...   \n",
       "10999  meskipun sering belanja ke yogyakarta di riau ...   \n",
       "\n",
       "                                      clean abusive alay  \n",
       "0      warung ini dimiliki oleh pengusaha pabrik tahu...  \n",
       "1      mohon ulama lurus dan k212 mmbri hujjah partai...  \n",
       "2      lokasi strategis di jalan sumatra bandung temp...  \n",
       "3      betapa bahagia nya diri ini saat unboxing pake...  \n",
       "4      aduh jadi mahasiswa jangan sombong dong kasih ...  \n",
       "...                                                  ...  \n",
       "10995                                       tidak kecewa  \n",
       "10996  enak rasa masakan nya apalagi kepiting yang me...  \n",
       "10997        hormati partai partai yang telah berkoalisi  \n",
       "10998  pagi pagi di tol pasteur sudah macet parah bik...  \n",
       "10999  meskipun sering belanja ke yogyakarta di riau ...  \n",
       "\n",
       "[11000 rows x 6 columns]"
      ]
     },
     "execution_count": 2,
     "metadata": {},
     "output_type": "execute_result"
    }
   ],
   "source": [
    "# Read data\n",
    "df = pd.read_csv(\n",
    "    \"clean_data.csv\",\n",
    "    sep=\"\\t\",\n",
    ")\n",
    "df = df.drop('Unnamed: 0', axis=1)\n",
    "df"
   ]
  },
  {
   "cell_type": "code",
   "execution_count": 3,
   "id": "4ae53831-b1d1-4d1a-9903-576d1d19f7bc",
   "metadata": {
    "tags": []
   },
   "outputs": [
    {
     "data": {
      "text/plain": [
       "(11000, 6)"
      ]
     },
     "execution_count": 3,
     "metadata": {},
     "output_type": "execute_result"
    }
   ],
   "source": [
    "# Check dataset\n",
    "df.shape"
   ]
  },
  {
   "cell_type": "code",
   "execution_count": 4,
   "id": "d1212c75-db32-4632-94bf-85663d2076e6",
   "metadata": {
    "tags": []
   },
   "outputs": [
    {
     "data": {
      "text/plain": [
       "sentiment\n",
       "positive    6416\n",
       "negative    3436\n",
       "neutral     1148\n",
       "Name: count, dtype: int64"
      ]
     },
     "execution_count": 4,
     "metadata": {},
     "output_type": "execute_result"
    }
   ],
   "source": [
    "# Check data volumes for each sentiment\n",
    "df.sentiment.value_counts()"
   ]
  },
  {
   "cell_type": "code",
   "execution_count": 5,
   "id": "c883d565-f4a7-45ce-b1e0-562c4b1e9ff4",
   "metadata": {
    "tags": []
   },
   "outputs": [],
   "source": [
    "# Data modelling will use 'clean text' column\n",
    "data_preprocessed = df['clean text'].tolist()\n",
    "#data_preprocessed"
   ]
  },
  {
   "cell_type": "code",
   "execution_count": 6,
   "id": "2ebb8c3c-4408-485b-ac0a-3f0545056b18",
   "metadata": {
    "tags": []
   },
   "outputs": [
    {
     "name": "stdout",
     "output_type": "stream",
     "text": [
      "Feature Extraction selesai\n"
     ]
    }
   ],
   "source": [
    "# Feature extraction\n",
    "\n",
    "# Import CountVectorizer\n",
    "from sklearn.feature_extraction.text import CountVectorizer\n",
    "\n",
    "count_vect = CountVectorizer()\n",
    "count_vect.fit(data_preprocessed)\n",
    "\n",
    "X = count_vect.transform(data_preprocessed)\n",
    "print(\"Feature Extraction selesai\")"
   ]
  },
  {
   "cell_type": "code",
   "execution_count": 7,
   "id": "21306a38-18cc-4300-99bb-3ad09390f198",
   "metadata": {
    "tags": []
   },
   "outputs": [],
   "source": [
    "# Save feature extraction result\n",
    "import pickle\n",
    "\n",
    "pickle.dump(count_vect, open(\"feature.p\", \"wb\"))"
   ]
  },
  {
   "cell_type": "code",
   "execution_count": 8,
   "id": "ba98a2ef-6de8-417d-9595-8a572182c2bd",
   "metadata": {
    "tags": []
   },
   "outputs": [
    {
     "name": "stdout",
     "output_type": "stream",
     "text": [
      "  (0, 986)\t1\n",
      "  (0, 1097)\t1\n",
      "  (0, 1270)\t1\n",
      "  (0, 1653)\t1\n",
      "  (0, 1889)\t1\n",
      "  (0, 2310)\t1\n",
      "  (0, 3300)\t1\n",
      "  (0, 3418)\t1\n",
      "  (0, 3530)\t1\n",
      "  (0, 3591)\t1\n",
      "  (0, 4114)\t1\n",
      "  (0, 4171)\t2\n",
      "  (0, 4486)\t1\n",
      "  (0, 5900)\t1\n",
      "  (0, 6337)\t1\n",
      "  (0, 6379)\t1\n",
      "  (0, 6560)\t1\n",
      "  (0, 6622)\t1\n",
      "  (0, 6936)\t1\n",
      "  (0, 7144)\t1\n",
      "  (0, 8077)\t1\n",
      "  (0, 8234)\t1\n",
      "  (0, 8485)\t1\n",
      "  (0, 9325)\t1\n",
      "  (0, 9400)\t1\n",
      "  :\t:\n",
      "  (10999, 8673)\t1\n",
      "  (10999, 8834)\t1\n",
      "  (10999, 8836)\t2\n",
      "  (10999, 9110)\t1\n",
      "  (10999, 10352)\t1\n",
      "  (10999, 11115)\t3\n",
      "  (10999, 12420)\t1\n",
      "  (10999, 12544)\t1\n",
      "  (10999, 12545)\t1\n",
      "  (10999, 13395)\t1\n",
      "  (10999, 13432)\t1\n",
      "  (10999, 13645)\t1\n",
      "  (10999, 13691)\t1\n",
      "  (10999, 13714)\t2\n",
      "  (10999, 13850)\t1\n",
      "  (10999, 14172)\t1\n",
      "  (10999, 14238)\t1\n",
      "  (10999, 14385)\t1\n",
      "  (10999, 15464)\t1\n",
      "  (10999, 15630)\t1\n",
      "  (10999, 16112)\t1\n",
      "  (10999, 16148)\t1\n",
      "  (10999, 16321)\t1\n",
      "  (10999, 17121)\t3\n",
      "  (10999, 17153)\t1\n"
     ]
    }
   ],
   "source": [
    "print(X)"
   ]
  },
  {
   "cell_type": "code",
   "execution_count": 9,
   "id": "e9047fc0-0520-4f21-8c68-3b781c151c0e",
   "metadata": {
    "tags": []
   },
   "outputs": [
    {
     "data": {
      "text/plain": [
       "0        positive\n",
       "1         neutral\n",
       "2        positive\n",
       "3        positive\n",
       "4        negative\n",
       "           ...   \n",
       "10995    positive\n",
       "10996    positive\n",
       "10997     neutral\n",
       "10998    negative\n",
       "10999    positive\n",
       "Name: sentiment, Length: 11000, dtype: object"
      ]
     },
     "execution_count": 9,
     "metadata": {},
     "output_type": "execute_result"
    }
   ],
   "source": [
    "from sklearn.model_selection import train_test_split\n",
    "\n",
    "classes = df['sentiment']\n",
    "classes"
   ]
  },
  {
   "cell_type": "code",
   "execution_count": 10,
   "id": "04ef2792-1de6-4ccf-88f9-834be79bbe75",
   "metadata": {
    "tags": []
   },
   "outputs": [],
   "source": [
    "# Split dataset into training and test data\n",
    "X_train, X_test, y_train, y_test = train_test_split(X, classes, test_size = 0.2)"
   ]
  },
  {
   "cell_type": "code",
   "execution_count": 11,
   "id": "d444340d-25d0-4ad8-9650-8f4efa73e308",
   "metadata": {
    "tags": []
   },
   "outputs": [
    {
     "name": "stdout",
     "output_type": "stream",
     "text": [
      "  (0, 749)\t1\n",
      "  (0, 1175)\t1\n",
      "  (0, 1324)\t1\n",
      "  (0, 3300)\t2\n",
      "  (0, 3398)\t2\n",
      "  (0, 3530)\t4\n",
      "  (0, 3591)\t1\n",
      "  (0, 4506)\t1\n",
      "  (0, 4932)\t2\n",
      "  (0, 5900)\t2\n",
      "  (0, 6379)\t2\n",
      "  (0, 6586)\t1\n",
      "  (0, 6666)\t1\n",
      "  (0, 6822)\t2\n",
      "  (0, 7023)\t1\n",
      "  (0, 7442)\t1\n",
      "  (0, 8273)\t1\n",
      "  (0, 8387)\t1\n",
      "  (0, 8794)\t1\n",
      "  (0, 9171)\t1\n",
      "  (0, 9442)\t1\n",
      "  (0, 9537)\t1\n",
      "  (0, 9558)\t1\n",
      "  (0, 9595)\t1\n",
      "  (0, 10088)\t2\n",
      "  :\t:\n",
      "  (8797, 16519)\t1\n",
      "  (8797, 16603)\t1\n",
      "  (8797, 17121)\t1\n",
      "  (8798, 1182)\t1\n",
      "  (8798, 1324)\t1\n",
      "  (8798, 2839)\t1\n",
      "  (8798, 3398)\t1\n",
      "  (8798, 3591)\t1\n",
      "  (8798, 3958)\t1\n",
      "  (8798, 8874)\t1\n",
      "  (8798, 9089)\t1\n",
      "  (8798, 17121)\t1\n",
      "  (8799, 1124)\t1\n",
      "  (8799, 1778)\t1\n",
      "  (8799, 4678)\t1\n",
      "  (8799, 6342)\t1\n",
      "  (8799, 6670)\t1\n",
      "  (8799, 7318)\t1\n",
      "  (8799, 8290)\t1\n",
      "  (8799, 8998)\t1\n",
      "  (8799, 10447)\t1\n",
      "  (8799, 11115)\t1\n",
      "  (8799, 12448)\t1\n",
      "  (8799, 13850)\t2\n",
      "  (8799, 17051)\t2\n"
     ]
    }
   ],
   "source": [
    "print(X_train)"
   ]
  },
  {
   "cell_type": "code",
   "execution_count": 12,
   "id": "2d3eed78-a9d4-4af1-a445-ca2f3f7146d5",
   "metadata": {
    "tags": []
   },
   "outputs": [
    {
     "name": "stdout",
     "output_type": "stream",
     "text": [
      "  (0, 423)\t2\n",
      "  (0, 1174)\t1\n",
      "  (0, 1993)\t1\n",
      "  (0, 2014)\t1\n",
      "  (0, 2195)\t1\n",
      "  (0, 2957)\t1\n",
      "  (0, 3398)\t1\n",
      "  (0, 3418)\t1\n",
      "  (0, 3530)\t2\n",
      "  (0, 3591)\t2\n",
      "  (0, 4351)\t1\n",
      "  (0, 6379)\t1\n",
      "  (0, 7924)\t1\n",
      "  (0, 8031)\t2\n",
      "  (0, 8834)\t1\n",
      "  (0, 8836)\t3\n",
      "  (0, 9595)\t1\n",
      "  (0, 10088)\t1\n",
      "  (0, 10198)\t1\n",
      "  (0, 10293)\t3\n",
      "  (0, 11115)\t1\n",
      "  (0, 13130)\t1\n",
      "  (0, 13736)\t1\n",
      "  (0, 13753)\t1\n",
      "  (0, 13850)\t1\n",
      "  :\t:\n",
      "  (2198, 11585)\t1\n",
      "  (2198, 11991)\t1\n",
      "  (2198, 12533)\t1\n",
      "  (2198, 17121)\t1\n",
      "  (2199, 477)\t1\n",
      "  (2199, 830)\t1\n",
      "  (2199, 3300)\t1\n",
      "  (2199, 6535)\t1\n",
      "  (2199, 6557)\t1\n",
      "  (2199, 7057)\t1\n",
      "  (2199, 7347)\t1\n",
      "  (2199, 7773)\t1\n",
      "  (2199, 8058)\t1\n",
      "  (2199, 8836)\t1\n",
      "  (2199, 11115)\t3\n",
      "  (2199, 11213)\t1\n",
      "  (2199, 12111)\t1\n",
      "  (2199, 13088)\t1\n",
      "  (2199, 13133)\t1\n",
      "  (2199, 13714)\t1\n",
      "  (2199, 13852)\t1\n",
      "  (2199, 14591)\t1\n",
      "  (2199, 15180)\t1\n",
      "  (2199, 15630)\t1\n",
      "  (2199, 17121)\t1\n"
     ]
    }
   ],
   "source": [
    "print(X_test)"
   ]
  },
  {
   "cell_type": "code",
   "execution_count": 13,
   "id": "290cd89e-875b-4510-b2ba-528a031ac77c",
   "metadata": {
    "tags": []
   },
   "outputs": [
    {
     "data": {
      "text/plain": [
       "9992     positive\n",
       "10156    negative\n",
       "9374     negative\n",
       "9294     positive\n",
       "3344     negative\n",
       "           ...   \n",
       "4239     negative\n",
       "10311    positive\n",
       "1230     positive\n",
       "10161     neutral\n",
       "3708     negative\n",
       "Name: sentiment, Length: 8800, dtype: object"
      ]
     },
     "execution_count": 13,
     "metadata": {},
     "output_type": "execute_result"
    }
   ],
   "source": [
    "y_train"
   ]
  },
  {
   "cell_type": "code",
   "execution_count": 14,
   "id": "c7064c3d-bc0c-4ff5-b33c-300622a1e0d2",
   "metadata": {
    "tags": []
   },
   "outputs": [
    {
     "data": {
      "text/plain": [
       "7949     positive\n",
       "2429     positive\n",
       "3253     positive\n",
       "10680    positive\n",
       "2088     positive\n",
       "           ...   \n",
       "10928    positive\n",
       "1299     negative\n",
       "5620     negative\n",
       "1017     positive\n",
       "801      negative\n",
       "Name: sentiment, Length: 2200, dtype: object"
      ]
     },
     "execution_count": 14,
     "metadata": {},
     "output_type": "execute_result"
    }
   ],
   "source": [
    "y_test"
   ]
  },
  {
   "cell_type": "code",
   "execution_count": 15,
   "id": "0dc07a7d-b9af-42ea-ac97-a6e662d5568d",
   "metadata": {
    "tags": []
   },
   "outputs": [
    {
     "name": "stdout",
     "output_type": "stream",
     "text": [
      "Train selesai\n"
     ]
    }
   ],
   "source": [
    "# Model training with neural network method\n",
    "from sklearn.neural_network import MLPClassifier\n",
    "model = MLPClassifier()\n",
    "model.fit(X_train, y_train)\n",
    "\n",
    "print(\"Train selesai\")"
   ]
  },
  {
   "cell_type": "code",
   "execution_count": 16,
   "id": "36f85839-f8c9-44a1-94a0-b1f5a79189c3",
   "metadata": {
    "tags": []
   },
   "outputs": [],
   "source": [
    "# Save data modelling result\n",
    "pickle.dump(model, open(\"model.p\", \"wb\"))"
   ]
  },
  {
   "cell_type": "code",
   "execution_count": 17,
   "id": "56222558-d3c0-4fec-adfd-a9c49a459489",
   "metadata": {
    "tags": []
   },
   "outputs": [
    {
     "name": "stdout",
     "output_type": "stream",
     "text": [
      "Testing selesai\n",
      "              precision    recall  f1-score   support\n",
      "\n",
      "    negative       0.79      0.82      0.80       664\n",
      "     neutral       0.83      0.76      0.79       237\n",
      "    positive       0.90      0.90      0.90      1299\n",
      "\n",
      "    accuracy                           0.86      2200\n",
      "   macro avg       0.84      0.83      0.83      2200\n",
      "weighted avg       0.86      0.86      0.86      2200\n",
      "\n"
     ]
    }
   ],
   "source": [
    "from sklearn.metrics import classification_report\n",
    "\n",
    "test = model.predict(X_test)\n",
    "\n",
    "print(\"Testing selesai\")\n",
    "\n",
    "print(classification_report(y_test, test))"
   ]
  },
  {
   "cell_type": "code",
   "execution_count": 18,
   "id": "23d26ff6-6bcd-483a-aacc-666f23b985be",
   "metadata": {
    "tags": []
   },
   "outputs": [],
   "source": [
    "# import numpy as np\n",
    "# from sklearn.naive_bayes import MultinomialNB\n",
    "# from sklearn.metrics import classification_report\n",
    "# from sklearn.metrics import accuracy_score\n",
    "# from sklearn.model_selection import KFold\n",
    "\n",
    "# kf = KFold(n_splits=5, random_state=42, shuffle=True)\n",
    "\n",
    "# accuracies = []\n",
    "\n",
    "# y = classes\n",
    "\n",
    "# for iteration, data in enumerate(kf.split(X), start=1):\n",
    "#     data_train = X[data[0]]\n",
    "#     target_train = y[data[0]]\n",
    "    \n",
    "#     data_test = X[data[1]]\n",
    "#     target_test = y[data[1]]\n",
    "    \n",
    "#     clf = MLPClassifier()\n",
    "    \n",
    "#     clf.fit(data_train, target_train)\n",
    "    \n",
    "#     accuracy = accuracy_score(target_test, preds)\n",
    "    \n",
    "#     print(\"Training ke-\", iteration)\n",
    "#     print(classification_report(target_test,preds))\n",
    "#     print(\"==================================================\")\n",
    "    \n",
    "#     accuracies.append(accuracy)\n",
    "    \n",
    "# average_accuracy = np.mean(accuracies)\n",
    "\n",
    "# print()\n",
    "# print()\n",
    "# print()\n",
    "# print(\"Rata-rata Accuracy: \", average_accuracy)\n"
   ]
  },
  {
   "cell_type": "code",
   "execution_count": 19,
   "id": "9f8b5753-8438-4681-a488-7560cfafeec5",
   "metadata": {
    "tags": []
   },
   "outputs": [
    {
     "name": "stdout",
     "output_type": "stream",
     "text": [
      "Training ke- 1\n",
      "              precision    recall  f1-score   support\n",
      "\n",
      "    negative       0.78      0.79      0.78       680\n",
      "     neutral       0.77      0.64      0.70       239\n",
      "    positive       0.88      0.90      0.89      1281\n",
      "\n",
      "    accuracy                           0.84      2200\n",
      "   macro avg       0.81      0.77      0.79      2200\n",
      "weighted avg       0.84      0.84      0.84      2200\n",
      "\n",
      "==================================================\n",
      "Training ke- 2\n",
      "              precision    recall  f1-score   support\n",
      "\n",
      "    negative       0.80      0.76      0.78       706\n",
      "     neutral       0.71      0.70      0.71       220\n",
      "    positive       0.88      0.90      0.89      1274\n",
      "\n",
      "    accuracy                           0.84      2200\n",
      "   macro avg       0.80      0.79      0.79      2200\n",
      "weighted avg       0.83      0.84      0.83      2200\n",
      "\n",
      "==================================================\n",
      "Training ke- 3\n",
      "              precision    recall  f1-score   support\n",
      "\n",
      "    negative       0.79      0.80      0.80       682\n",
      "     neutral       0.85      0.70      0.77       215\n",
      "    positive       0.89      0.91      0.90      1303\n",
      "\n",
      "    accuracy                           0.85      2200\n",
      "   macro avg       0.84      0.80      0.82      2200\n",
      "weighted avg       0.85      0.85      0.85      2200\n",
      "\n",
      "==================================================\n",
      "Training ke- 4\n",
      "              precision    recall  f1-score   support\n",
      "\n",
      "    negative       0.79      0.79      0.79       698\n",
      "     neutral       0.78      0.65      0.71       229\n",
      "    positive       0.88      0.90      0.89      1273\n",
      "\n",
      "    accuracy                           0.84      2200\n",
      "   macro avg       0.81      0.78      0.80      2200\n",
      "weighted avg       0.84      0.84      0.84      2200\n",
      "\n",
      "==================================================\n",
      "Training ke- 5\n",
      "              precision    recall  f1-score   support\n",
      "\n",
      "    negative       0.76      0.82      0.79       670\n",
      "     neutral       0.78      0.66      0.72       245\n",
      "    positive       0.90      0.89      0.89      1285\n",
      "\n",
      "    accuracy                           0.84      2200\n",
      "   macro avg       0.81      0.79      0.80      2200\n",
      "weighted avg       0.84      0.84      0.84      2200\n",
      "\n",
      "==================================================\n",
      "\n",
      "\n",
      "\n",
      "Rata-rata Accuracy:  0.8420909090909092\n"
     ]
    }
   ],
   "source": [
    "# Cross validation\n",
    "import numpy as np\n",
    "from sklearn.neural_network import MLPClassifier\n",
    "from sklearn.metrics import classification_report\n",
    "from sklearn.metrics import accuracy_score\n",
    "from sklearn.model_selection import KFold\n",
    "\n",
    "kf = KFold(n_splits=5, random_state=42, shuffle=True)\n",
    "\n",
    "accuracies = []\n",
    "\n",
    "y = classes\n",
    "\n",
    "for iteration, data in enumerate(kf.split(X), start=1):\n",
    "    data_train = X[data[0]]\n",
    "    target_train = y[data[0]]\n",
    "    \n",
    "    data_test = X[data[1]]\n",
    "    target_test = y[data[1]]\n",
    "    \n",
    "    clf = MLPClassifier()\n",
    "    clf.fit(data_train, target_train)\n",
    "    \n",
    "    preds = clf.predict(data_test)\n",
    "    \n",
    "    accuracy = accuracy_score(target_test, preds)\n",
    "    \n",
    "    print(\"Training ke-\", iteration)\n",
    "    print(classification_report(target_test,preds))\n",
    "    print(\"==================================================\")\n",
    "    \n",
    "    accuracies.append(accuracy)\n",
    "    \n",
    "average_accuracy = np.mean(accuracies)\n",
    "\n",
    "print()\n",
    "print()\n",
    "print()\n",
    "print(\"Rata-rata Accuracy: \", average_accuracy)"
   ]
  },
  {
   "cell_type": "code",
   "execution_count": 35,
   "id": "c4ce8112-3f5d-449f-aa17-13a5e0139ccf",
   "metadata": {
    "tags": []
   },
   "outputs": [],
   "source": [
    "# Save data modelling result\n",
    "pickle.dump(model, open(\"model.p\", \"wb\"))"
   ]
  },
  {
   "cell_type": "code",
   "execution_count": 20,
   "id": "16980a85-68f7-4d8f-acf0-20809c78b806",
   "metadata": {},
   "outputs": [],
   "source": [
    "import re\n",
    "def cleansing_text(text):\n",
    "    # lowercase\n",
    "    clean_text = str(text).lower()\n",
    "    # clean URL\n",
    "    clean_text = re.sub(r'(http\\S+|www\\S+)', '', clean_text)\n",
    "    # clean punctuations\n",
    "    clean_text = re.sub(r'[^a-zA-Z0-9\\s]', ' ', clean_text)\n",
    "    # clean multiple whitespace\n",
    "    clean_text = ' '.join(clean_text.split())\n",
    "    return clean_text"
   ]
  },
  {
   "cell_type": "code",
   "execution_count": 39,
   "id": "97418258-10d4-4d65-a157-9e18da508df6",
   "metadata": {
    "tags": []
   },
   "outputs": [],
   "source": [
    "with open(\"model.p\", \"rb\") as f:\n",
    "    lr = pickle.load(f)"
   ]
  },
  {
   "cell_type": "code",
   "execution_count": 1,
   "id": "d72d2d6b-0463-41e7-934f-31f674f0ddf3",
   "metadata": {},
   "outputs": [
    {
     "ename": "NameError",
     "evalue": "name 'count_vect' is not defined",
     "output_type": "error",
     "traceback": [
      "\u001b[1;31m---------------------------------------------------------------------------\u001b[0m",
      "\u001b[1;31mNameError\u001b[0m                                 Traceback (most recent call last)",
      "Cell \u001b[1;32mIn[1], line 5\u001b[0m\n\u001b[0;32m      1\u001b[0m \u001b[38;5;66;03m# Model testing\u001b[39;00m\n\u001b[0;32m      2\u001b[0m original_text \u001b[38;5;241m=\u001b[39m \u001b[38;5;124m'''\u001b[39m\n\u001b[0;32m      3\u001b[0m \u001b[38;5;124mRasa syukur, cukup.\u001b[39m\n\u001b[0;32m      4\u001b[0m \u001b[38;5;124m'''\u001b[39m\n\u001b[1;32m----> 5\u001b[0m text \u001b[38;5;241m=\u001b[39m \u001b[43mcount_vect\u001b[49m\u001b[38;5;241m.\u001b[39mtransform([cleansing_text(original_text)])\n\u001b[0;32m      6\u001b[0m result \u001b[38;5;241m=\u001b[39m lr\u001b[38;5;241m.\u001b[39mpredict(text)[\u001b[38;5;241m0\u001b[39m]\n\u001b[0;32m      7\u001b[0m \u001b[38;5;28mprint\u001b[39m(\u001b[38;5;124m\"\u001b[39m\u001b[38;5;124mSentiment:\u001b[39m\u001b[38;5;124m\"\u001b[39m)\n",
      "\u001b[1;31mNameError\u001b[0m: name 'count_vect' is not defined"
     ]
    }
   ],
   "source": [
    "# Model testing\n",
    "original_text = '''\n",
    "Rasa syukur, cukup.\n",
    "'''\n",
    "text = count_vect.transform([cleansing_text(original_text)])\n",
    "result = lr.predict(text)[0]\n",
    "print(\"Sentiment:\")\n",
    "print()\n",
    "print(result)"
   ]
  },
  {
   "cell_type": "code",
   "execution_count": 22,
   "id": "b70fc4a4-fe28-4db5-928e-d12f8d95016c",
   "metadata": {},
   "outputs": [],
   "source": [
    "# text = \"warung ini dimiliki oleh pengusaha pabrik tahu yang sudah puluhan tahun terkenal membuat tahu putih di bandung tahu berkualitas dipadu keahlian memasak dipadu kretivitas jadilah warung yang menyajikan menu utama berbahan tahu ditambah menu umum lain seperti ayam semuanya selera indonesia harga cukup terjangkau jangan lewatkan tahu bletoka nya tidak kalah dengan yang asli dari tegal\"\n",
    "# test = text.split()\n",
    "\n",
    "# count_vect = CountVectorizer()\n",
    "# count_vect.fit(test)\n",
    "\n",
    "# Y = count_vect.transform(test)\n",
    "# print(Y)"
   ]
  }
 ],
 "metadata": {
  "kernelspec": {
   "display_name": "Python 3 (ipykernel)",
   "language": "python",
   "name": "python3"
  },
  "language_info": {
   "codemirror_mode": {
    "name": "ipython",
    "version": 3
   },
   "file_extension": ".py",
   "mimetype": "text/x-python",
   "name": "python",
   "nbconvert_exporter": "python",
   "pygments_lexer": "ipython3",
   "version": "3.10.6"
  }
 },
 "nbformat": 4,
 "nbformat_minor": 5
}
